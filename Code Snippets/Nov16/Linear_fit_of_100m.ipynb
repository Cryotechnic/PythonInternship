{
  "nbformat": 4,
  "nbformat_minor": 0,
  "metadata": {
    "colab": {
      "name": "Linear fit of 100m.ipynb",
      "provenance": [],
      "toc_visible": true
    },
    "kernelspec": {
      "name": "python3",
      "display_name": "Python 3.8.6 64-bit",
      "metadata": {
        "interpreter": {
          "hash": "aa460923765c9015bb7bd7ef317656341925392175e99c6f7803536b2f1718cf"
        }
      }
    }
  },
  "cells": [
    {
      "cell_type": "code",
      "metadata": {
        "id": "cRQb_OkKt0QH",
        "outputId": "1b6717a3-ba6a-48a8-ac8f-8886cae1d3b7",
        "colab": {
          "base_uri": "https://localhost:8080/",
          "height": 1000
        }
      },
      "source": [
        "# Importing libraries\n",
        "import tensorflow as tf\n",
        "import keras as kr\n",
        "import pandas as pd\n",
        "import numpy as np\n",
        "\n",
        "\n",
        "\n",
        "winningTimeMen = pd.read_csv(\"mensTime.csv\", error_bad_lines=False) # reads data from mensTime\n",
        "winningTimeWomen = pd.read_csv(\"womensTime.csv\", error_bad_lines=False)\n",
        "\n",
        "#print(type(winningTimeMen))  #DataFrame or dictionary for Men \n",
        "print(winningTimeMen.shape)\n",
        "print(winningTimeMen.year)\n",
        "print(type(winningTimeWomen))  #DataFrame or dictionary for Women\n",
        "\n",
        "#print(winningTimeMen.mens) # a column of all the names for men\n",
        "#print(winningTimeWomen.womens) # prints column of all names for women\n",
        "\n",
        "#resultsMen = np.polyfit(winningTimeMen.year, winningTimeMen.mens,1)\n",
        "resultsWomen = np.polyfit(winningTimeWomen.year, winningTimeWomen.womens, 1) # fits model with years and womens, first power\n",
        "\n",
        "m = results[0]\n",
        "b = results[1]\n",
        "\n",
        "print (\"m= \"+str(m)+\" and b= \"+str(b))\n",
        "\n",
        "resultsCubicWomen = np.polyfit(winningTimeWomen.year, winningTimeWomen.womens,3)\n",
        "resultsCubicMen = np.polyfit(winningTimeMen.year, winningTimeMen.men,3)\n",
        "m1= resultsCubic[0]\n",
        "m2=resultsCubic[1]\n",
        "m3=resultsCubic[2]\n",
        "m4=resultsCubic[3]\n",
        "\n",
        "resultsEightMen = np.polyfit(winningTime.year,winningTime.mens,8)\n",
        "resultsEightWomen = np.polyfit(winningTime.year, winningTime.womens, 8) # fits model with years and womens, 8th power\n",
        "resultsSquareMen = np.polyfit(winningTime.year, winningTime.men, 2)\n",
        "resultsSquareWomen = np.polyfit(winningTime.year, winningTime.women, 2)\n",
        "#new_model = tf.saved_model.load(\"saved_model\")\n",
        "\n",
        "\n",
        "# Alternative method\n",
        "model = kr.Sequential([kr.layers.Dense(units=1, input_shape= [1,])])\n",
        "model.compile(optimizer='sgd', loss=\"mean_squared_error\", metrics=[\"accuracy\"])\n",
        "\n",
        "minimumYear=winningTime.year.min()\n",
        "maximumYear=winningTime.year.max()\n",
        "\n",
        "#print(minimumYear, maximumYear)\n",
        "xs=winningTime.year-minimumYear\n",
        "#print(\"after subtracting min\")\n",
        "#print(xs)\n",
        "xs=xs/(maximumYear-minimumYear) #we normalize the x's so it is nicely spread between 0 and 1.\n",
        "ys=winningTime.mens\n",
        "\n",
        "sum = 0.0\n",
        "\n",
        "#print(\"now xs normalized\")\n",
        "\n",
        "model.fit(xs, ys, epochs=1000)\n",
        "\n",
        "print (\"now the prediction ... \")\n",
        "#print (model([0.9861]))\n",
        "#predictions = new_model.predict(xs, verbose=0)\n",
        "#model = tf.saved_model.load(\"the_saved_model\") \n",
        "predictions = model.predict(xs, verbose=1)\n",
        "print(\"the model: \")\n",
        "#print (new_model.weights)\n",
        "print ( model.predict([0.39, 0.73, 0.9861, 1.14], verbose=0))\n",
        "tf.saved_model.save(model, \"the_saved_model\")\n",
        "import numpy as np\n",
        "import matplotlib.pyplot as plt\n",
        "\n",
        "x = xs\n",
        "y = ys\n",
        "\n",
        "# now x is back to normal.\n",
        "x = 112*xs+1896\n",
        "\n",
        "fig = plt.figure()\n",
        "plt.plot(x,m*x+b,'b-') # blue line : Statistics linear model\n",
        "plt.plot(x,m1*x*x*x+m2*x*x+m3*x+m4,'g-')\n",
        "plt.plot(x, y,'bo') # data points with blue dots\n",
        "plt.plot(x,predictions,'r-') # red line : AI model, 2500 iterations. \n",
        "columnToAdd = [1.0]*len(x)\n",
        "matriX = pd.DataFrame()\n",
        "degree = 8\n",
        "for i in range(0,degree):\n",
        "  matriX.insert(i, column=i, value=x**(8-i))\n",
        "\n",
        "matriX.insert(8, column=8, value = columnToAdd)\n",
        "matrixForMult = matriX.to_numpy()\n",
        "print(resultsEightWomen)\n",
        "print(resultsEightMen)\n",
        "yEight=np.matmul(matrixForMult,resultsEightMen)\n",
        "ySquare = np.matmul(matrixForMult, resultsSquareMen)\n",
        "print(yEightMen)\n",
        "plt.plot(x,yEight,'-')\n",
        "\n",
        "fig.savefig(\"overfit.jpg\")\n"
      ],
      "execution_count": 2,
      "outputs": [
        {
          "output_type": "stream",
          "name": "stdout",
          "text": [
            "(27, 2)\n0     1896\n1     1900\n2     1904\n3     1906\n4     1908\n5     1912\n6     1920\n7     1924\n8     1928\n9     1932\n10    1936\n11    1948\n12    1952\n13    1956\n14    1960\n15    1964\n16    1968\n17    1972\n18    1976\n19    1980\n20    1984\n21    1988\n22    1992\n23    1996\n24    2000\n25    2004\n26    2008\nName: year, dtype: int64\n<class 'pandas.core.frame.DataFrame'>\n"
          ]
        },
        {
          "output_type": "error",
          "ename": "LinAlgError",
          "evalue": "SVD did not converge in Linear Least Squares",
          "traceback": [
            "\u001b[1;31m---------------------------------------------------------------------------\u001b[0m",
            "\u001b[1;31mLinAlgError\u001b[0m                               Traceback (most recent call last)",
            "\u001b[1;32m<ipython-input-2-d03437a0100a>\u001b[0m in \u001b[0;36m<module>\u001b[1;34m\u001b[0m\n\u001b[0;32m     19\u001b[0m \u001b[1;33m\u001b[0m\u001b[0m\n\u001b[0;32m     20\u001b[0m \u001b[1;31m#resultsMen = np.polyfit(winningTimeMen.year, winningTimeMen.mens,1)\u001b[0m\u001b[1;33m\u001b[0m\u001b[1;33m\u001b[0m\u001b[1;33m\u001b[0m\u001b[0m\n\u001b[1;32m---> 21\u001b[1;33m \u001b[0mresultsWomen\u001b[0m \u001b[1;33m=\u001b[0m \u001b[0mnp\u001b[0m\u001b[1;33m.\u001b[0m\u001b[0mpolyfit\u001b[0m\u001b[1;33m(\u001b[0m\u001b[0mwinningTimeWomen\u001b[0m\u001b[1;33m.\u001b[0m\u001b[0myear\u001b[0m\u001b[1;33m,\u001b[0m \u001b[0mwinningTimeWomen\u001b[0m\u001b[1;33m.\u001b[0m\u001b[0mwomens\u001b[0m\u001b[1;33m,\u001b[0m \u001b[1;36m1\u001b[0m\u001b[1;33m)\u001b[0m \u001b[1;31m# fits model with years and womens, first power\u001b[0m\u001b[1;33m\u001b[0m\u001b[1;33m\u001b[0m\u001b[0m\n\u001b[0m\u001b[0;32m     22\u001b[0m \u001b[1;33m\u001b[0m\u001b[0m\n\u001b[0;32m     23\u001b[0m \u001b[0mm\u001b[0m \u001b[1;33m=\u001b[0m \u001b[0mresults\u001b[0m\u001b[1;33m[\u001b[0m\u001b[1;36m0\u001b[0m\u001b[1;33m]\u001b[0m\u001b[1;33m\u001b[0m\u001b[1;33m\u001b[0m\u001b[0m\n",
            "\u001b[1;32m<__array_function__ internals>\u001b[0m in \u001b[0;36mpolyfit\u001b[1;34m(*args, **kwargs)\u001b[0m\n",
            "\u001b[1;32mS:\\Program Files\\Python\\lib\\site-packages\\numpy\\lib\\polynomial.py\u001b[0m in \u001b[0;36mpolyfit\u001b[1;34m(x, y, deg, rcond, full, w, cov)\u001b[0m\n\u001b[0;32m    629\u001b[0m     \u001b[0mscale\u001b[0m \u001b[1;33m=\u001b[0m \u001b[0mNX\u001b[0m\u001b[1;33m.\u001b[0m\u001b[0msqrt\u001b[0m\u001b[1;33m(\u001b[0m\u001b[1;33m(\u001b[0m\u001b[0mlhs\u001b[0m\u001b[1;33m*\u001b[0m\u001b[0mlhs\u001b[0m\u001b[1;33m)\u001b[0m\u001b[1;33m.\u001b[0m\u001b[0msum\u001b[0m\u001b[1;33m(\u001b[0m\u001b[0maxis\u001b[0m\u001b[1;33m=\u001b[0m\u001b[1;36m0\u001b[0m\u001b[1;33m)\u001b[0m\u001b[1;33m)\u001b[0m\u001b[1;33m\u001b[0m\u001b[1;33m\u001b[0m\u001b[0m\n\u001b[0;32m    630\u001b[0m     \u001b[0mlhs\u001b[0m \u001b[1;33m/=\u001b[0m \u001b[0mscale\u001b[0m\u001b[1;33m\u001b[0m\u001b[1;33m\u001b[0m\u001b[0m\n\u001b[1;32m--> 631\u001b[1;33m     \u001b[0mc\u001b[0m\u001b[1;33m,\u001b[0m \u001b[0mresids\u001b[0m\u001b[1;33m,\u001b[0m \u001b[0mrank\u001b[0m\u001b[1;33m,\u001b[0m \u001b[0ms\u001b[0m \u001b[1;33m=\u001b[0m \u001b[0mlstsq\u001b[0m\u001b[1;33m(\u001b[0m\u001b[0mlhs\u001b[0m\u001b[1;33m,\u001b[0m \u001b[0mrhs\u001b[0m\u001b[1;33m,\u001b[0m \u001b[0mrcond\u001b[0m\u001b[1;33m)\u001b[0m\u001b[1;33m\u001b[0m\u001b[1;33m\u001b[0m\u001b[0m\n\u001b[0m\u001b[0;32m    632\u001b[0m     \u001b[0mc\u001b[0m \u001b[1;33m=\u001b[0m \u001b[1;33m(\u001b[0m\u001b[0mc\u001b[0m\u001b[1;33m.\u001b[0m\u001b[0mT\u001b[0m\u001b[1;33m/\u001b[0m\u001b[0mscale\u001b[0m\u001b[1;33m)\u001b[0m\u001b[1;33m.\u001b[0m\u001b[0mT\u001b[0m  \u001b[1;31m# broadcast scale coefficients\u001b[0m\u001b[1;33m\u001b[0m\u001b[1;33m\u001b[0m\u001b[0m\n\u001b[0;32m    633\u001b[0m \u001b[1;33m\u001b[0m\u001b[0m\n",
            "\u001b[1;32m<__array_function__ internals>\u001b[0m in \u001b[0;36mlstsq\u001b[1;34m(*args, **kwargs)\u001b[0m\n",
            "\u001b[1;32mS:\\Program Files\\Python\\lib\\site-packages\\numpy\\linalg\\linalg.py\u001b[0m in \u001b[0;36mlstsq\u001b[1;34m(a, b, rcond)\u001b[0m\n\u001b[0;32m   2257\u001b[0m         \u001b[1;31m# lapack can't handle n_rhs = 0 - so allocate the array one larger in that axis\u001b[0m\u001b[1;33m\u001b[0m\u001b[1;33m\u001b[0m\u001b[1;33m\u001b[0m\u001b[0m\n\u001b[0;32m   2258\u001b[0m         \u001b[0mb\u001b[0m \u001b[1;33m=\u001b[0m \u001b[0mzeros\u001b[0m\u001b[1;33m(\u001b[0m\u001b[0mb\u001b[0m\u001b[1;33m.\u001b[0m\u001b[0mshape\u001b[0m\u001b[1;33m[\u001b[0m\u001b[1;33m:\u001b[0m\u001b[1;33m-\u001b[0m\u001b[1;36m2\u001b[0m\u001b[1;33m]\u001b[0m \u001b[1;33m+\u001b[0m \u001b[1;33m(\u001b[0m\u001b[0mm\u001b[0m\u001b[1;33m,\u001b[0m \u001b[0mn_rhs\u001b[0m \u001b[1;33m+\u001b[0m \u001b[1;36m1\u001b[0m\u001b[1;33m)\u001b[0m\u001b[1;33m,\u001b[0m \u001b[0mdtype\u001b[0m\u001b[1;33m=\u001b[0m\u001b[0mb\u001b[0m\u001b[1;33m.\u001b[0m\u001b[0mdtype\u001b[0m\u001b[1;33m)\u001b[0m\u001b[1;33m\u001b[0m\u001b[1;33m\u001b[0m\u001b[0m\n\u001b[1;32m-> 2259\u001b[1;33m     \u001b[0mx\u001b[0m\u001b[1;33m,\u001b[0m \u001b[0mresids\u001b[0m\u001b[1;33m,\u001b[0m \u001b[0mrank\u001b[0m\u001b[1;33m,\u001b[0m \u001b[0ms\u001b[0m \u001b[1;33m=\u001b[0m \u001b[0mgufunc\u001b[0m\u001b[1;33m(\u001b[0m\u001b[0ma\u001b[0m\u001b[1;33m,\u001b[0m \u001b[0mb\u001b[0m\u001b[1;33m,\u001b[0m \u001b[0mrcond\u001b[0m\u001b[1;33m,\u001b[0m \u001b[0msignature\u001b[0m\u001b[1;33m=\u001b[0m\u001b[0msignature\u001b[0m\u001b[1;33m,\u001b[0m \u001b[0mextobj\u001b[0m\u001b[1;33m=\u001b[0m\u001b[0mextobj\u001b[0m\u001b[1;33m)\u001b[0m\u001b[1;33m\u001b[0m\u001b[1;33m\u001b[0m\u001b[0m\n\u001b[0m\u001b[0;32m   2260\u001b[0m     \u001b[1;32mif\u001b[0m \u001b[0mm\u001b[0m \u001b[1;33m==\u001b[0m \u001b[1;36m0\u001b[0m\u001b[1;33m:\u001b[0m\u001b[1;33m\u001b[0m\u001b[1;33m\u001b[0m\u001b[0m\n\u001b[0;32m   2261\u001b[0m         \u001b[0mx\u001b[0m\u001b[1;33m[\u001b[0m\u001b[1;33m...\u001b[0m\u001b[1;33m]\u001b[0m \u001b[1;33m=\u001b[0m \u001b[1;36m0\u001b[0m\u001b[1;33m\u001b[0m\u001b[1;33m\u001b[0m\u001b[0m\n",
            "\u001b[1;32mS:\\Program Files\\Python\\lib\\site-packages\\numpy\\linalg\\linalg.py\u001b[0m in \u001b[0;36m_raise_linalgerror_lstsq\u001b[1;34m(err, flag)\u001b[0m\n\u001b[0;32m    107\u001b[0m \u001b[1;33m\u001b[0m\u001b[0m\n\u001b[0;32m    108\u001b[0m \u001b[1;32mdef\u001b[0m \u001b[0m_raise_linalgerror_lstsq\u001b[0m\u001b[1;33m(\u001b[0m\u001b[0merr\u001b[0m\u001b[1;33m,\u001b[0m \u001b[0mflag\u001b[0m\u001b[1;33m)\u001b[0m\u001b[1;33m:\u001b[0m\u001b[1;33m\u001b[0m\u001b[1;33m\u001b[0m\u001b[0m\n\u001b[1;32m--> 109\u001b[1;33m     \u001b[1;32mraise\u001b[0m \u001b[0mLinAlgError\u001b[0m\u001b[1;33m(\u001b[0m\u001b[1;34m\"SVD did not converge in Linear Least Squares\"\u001b[0m\u001b[1;33m)\u001b[0m\u001b[1;33m\u001b[0m\u001b[1;33m\u001b[0m\u001b[0m\n\u001b[0m\u001b[0;32m    110\u001b[0m \u001b[1;33m\u001b[0m\u001b[0m\n\u001b[0;32m    111\u001b[0m \u001b[1;32mdef\u001b[0m \u001b[0mget_linalg_error_extobj\u001b[0m\u001b[1;33m(\u001b[0m\u001b[0mcallback\u001b[0m\u001b[1;33m)\u001b[0m\u001b[1;33m:\u001b[0m\u001b[1;33m\u001b[0m\u001b[1;33m\u001b[0m\u001b[0m\n",
            "\u001b[1;31mLinAlgError\u001b[0m: SVD did not converge in Linear Least Squares"
          ]
        }
      ]
    },
    {
      "cell_type": "code",
      "metadata": {
        "id": "O-V1Gp9KGoaL"
      },
      "source": [
        "msg = \"Hello world\"\n",
        "print(msg)"
      ],
      "execution_count": 1,
      "outputs": [
        {
          "output_type": "stream",
          "name": "stdout",
          "text": [
            "Hello world\n"
          ]
        }
      ]
    },
    {
      "cell_type": "markdown",
      "metadata": {
        "id": "0MJkakLpt7rB"
      },
      "source": [
        "# New Section"
      ]
    }
  ]
}